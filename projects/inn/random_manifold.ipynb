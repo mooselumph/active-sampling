{
 "cells": [
  {
   "cell_type": "code",
   "execution_count": 1,
   "id": "edf46159",
   "metadata": {},
   "outputs": [],
   "source": [
    "import os\n",
    "os.environ[\"CUDA_DEVICE_ORDER\"]=\"PCI_BUS_ID\"   # see issue #152\n",
    "os.environ[\"CUDA_VISIBLE_DEVICES\"]=\"1\""
   ]
  },
  {
   "cell_type": "code",
   "execution_count": 2,
   "id": "4e012e67",
   "metadata": {},
   "outputs": [],
   "source": [
    "import tensorflow as tf\n",
    "tf.config.experimental.set_visible_devices([], 'GPU')"
   ]
  },
  {
   "cell_type": "code",
   "execution_count": 13,
   "id": "3c5b49df",
   "metadata": {},
   "outputs": [],
   "source": [
    "import flax.linen as nn\n",
    "import jax.numpy as jnp\n",
    "import jax\n",
    "\n",
    "import matplotlib.pyplot as plt\n",
    "\n",
    "import numpy as np"
   ]
  },
  {
   "cell_type": "code",
   "execution_count": 4,
   "id": "b676f1f3",
   "metadata": {},
   "outputs": [],
   "source": [
    "class Generator(nn.Module):\n",
    "    training = False\n",
    "\n",
    "    @nn.compact\n",
    "    def __call__(self, z):\n",
    "        x = nn.ConvTranspose(features=64*8, kernel_size=(4, 4),\n",
    "                             strides=(1, 1), padding='VALID', use_bias=False)(z)\n",
    "        x = nn.BatchNorm(\n",
    "            use_running_average=not self.training, momentum=0.9)(x)\n",
    "        x = nn.relu(x)\n",
    "\n",
    "        x = nn.ConvTranspose(features=64*4, kernel_size=(4, 4),\n",
    "                             strides=(2, 2), padding='SAME', use_bias=False)(x)\n",
    "        x = nn.BatchNorm(\n",
    "            use_running_average=not self.training, momentum=0.9)(x)\n",
    "        x = nn.relu(x)\n",
    "\n",
    "        x = nn.ConvTranspose(features=64*2, kernel_size=(4, 4),\n",
    "                             strides=(2, 2), padding='SAME', use_bias=False)(x)\n",
    "        x = nn.BatchNorm(\n",
    "            use_running_average=not self.training, momentum=0.9)(x)\n",
    "        x = nn.relu(x)\n",
    "\n",
    "        x = nn.ConvTranspose(features=64, kernel_size=(\n",
    "            4, 4), strides=(2, 2), padding='SAME', use_bias=False)(x)\n",
    "        x = nn.BatchNorm(\n",
    "            use_running_average=not self.training, momentum=0.9)(x)\n",
    "        x = nn.relu(x)\n",
    "\n",
    "        x = nn.ConvTranspose(features=1, kernel_size=(\n",
    "            4, 4), strides=(1, 1), padding='SAME', use_bias=False)(x)\n",
    "        return jnp.tanh(x)"
   ]
  },
  {
   "cell_type": "code",
   "execution_count": 36,
   "id": "c0bb2cf6",
   "metadata": {},
   "outputs": [],
   "source": [
    "class Generator2(nn.Module):\n",
    "    training = False\n",
    "\n",
    "    @nn.compact\n",
    "    def __call__(self, z):\n",
    "        x = nn.ConvTranspose(features=16*8, kernel_size=(4, 4),\n",
    "                             strides=(1, 1), padding='VALID', use_bias=False)(z)\n",
    "        x = nn.BatchNorm(\n",
    "            use_running_average=not self.training, momentum=0.9)(x)\n",
    "        x = nn.relu(x)\n",
    "\n",
    "        x = nn.ConvTranspose(features=16*4, kernel_size=(4, 4),\n",
    "                             strides=(2, 2), padding='SAME', use_bias=False)(x)\n",
    "        x = nn.BatchNorm(\n",
    "            use_running_average=not self.training, momentum=0.9)(x)\n",
    "        x = nn.relu(x)\n",
    "\n",
    "        x = nn.ConvTranspose(features=16*2, kernel_size=(4, 4),\n",
    "                             strides=(2, 2), padding='SAME', use_bias=False)(x)\n",
    "        x = nn.BatchNorm(\n",
    "            use_running_average=not self.training, momentum=0.9)(x)\n",
    "        x = nn.relu(x)\n",
    "\n",
    "        x = nn.ConvTranspose(features=16, kernel_size=(\n",
    "            4, 4), strides=(2, 2), padding='SAME', use_bias=False)(x)\n",
    "        x = nn.BatchNorm(\n",
    "            use_running_average=not self.training, momentum=0.9)(x)\n",
    "        x = nn.relu(x)\n",
    "\n",
    "        x = nn.ConvTranspose(features=1, kernel_size=(\n",
    "            4, 4), strides=(1, 1), padding='SAME', use_bias=False)(x)\n",
    "        return jnp.tanh(x)"
   ]
  },
  {
   "cell_type": "code",
   "execution_count": 49,
   "id": "28cf68d5",
   "metadata": {},
   "outputs": [],
   "source": [
    "gen = Generator2()"
   ]
  },
  {
   "cell_type": "code",
   "execution_count": 50,
   "id": "11e82c4d",
   "metadata": {},
   "outputs": [],
   "source": [
    "z = jnp.ones((1, 1, 1, 10), jnp.float32)\n",
    "key = jax.random.PRNGKey(0)\n",
    "\n",
    "params = gen.init(key,z)"
   ]
  },
  {
   "cell_type": "code",
   "execution_count": 61,
   "id": "51b2ddee",
   "metadata": {},
   "outputs": [],
   "source": [
    "# z = jax.random.normal(key,(1, 1, 1, 10), jnp.float32)\n",
    "z = np.zeros((1, 1, 1, 10), jnp.float32)\n",
    "z[0,0,0,1] = 1\n",
    "out = np.squeeze(gen.apply(params,z))"
   ]
  },
  {
   "cell_type": "code",
   "execution_count": 62,
   "id": "08d132cf",
   "metadata": {},
   "outputs": [
    {
     "data": {
      "text/plain": [
       "<matplotlib.image.AxesImage at 0x7f6de44ad9d0>"
      ]
     },
     "execution_count": 62,
     "metadata": {},
     "output_type": "execute_result"
    },
    {
     "data": {
      "image/png": "[encoded data removed]",
      "text/plain": [
       "<Figure size 432x288 with 1 Axes>"
      ]
     },
     "metadata": {
      "needs_background": "light"
     },
     "output_type": "display_data"
    }
   ],
   "source": [
    "plt.imshow(out)"
   ]
  },
  {
   "cell_type": "code",
   "execution_count": 52,
   "id": "6b1ef7cc",
   "metadata": {},
   "outputs": [
    {
     "data": {
      "text/plain": [
       "<matplotlib.image.AxesImage at 0x7f6de46c50a0>"
      ]
     },
     "execution_count": 52,
     "metadata": {},
     "output_type": "execute_result"
    },
    {
     "data": {
      "image/png": "[encoded data removed]",
      "text/plain": [
       "<Figure size 432x288 with 1 Axes>"
      ]
     },
     "metadata": {
      "needs_background": "light"
     },
     "output_type": "display_data"
    }
   ],
   "source": [
    "plt.imshow(out)"
   ]
  },
  {
   "cell_type": "code",
   "execution_count": 73,
   "id": "12ae697c",
   "metadata": {},
   "outputs": [],
   "source": [
    "frames = []\n",
    "\n",
    "z = np.array(jax.random.normal(key,(1, 1, 1, 10), jnp.float32))\n",
    "\n",
    "for i in np.linspace(-5,5,100):\n",
    "    \n",
    "    z[0,0,0,1] = i\n",
    "    out = np.squeeze(gen.apply(params,z))\n",
    "    \n",
    "    frames.append(out)"
   ]
  },
  {
   "cell_type": "code",
   "execution_count": null,
   "id": "c60a1dcf",
   "metadata": {},
   "outputs": [],
   "source": [
    "HTML(frames_to_anim(frames).to_jshtml())"
   ]
  },
  {
   "cell_type": "code",
   "execution_count": 67,
   "id": "5d34e131",
   "metadata": {},
   "outputs": [],
   "source": [
    "%matplotlib inline\n",
    "\n",
    "from matplotlib.animation import FuncAnimation\n",
    "from IPython.display import HTML\n",
    "\n",
    "def frames_to_anim(frames):\n",
    "    plt.figure()\n",
    "    patch = plt.imshow(frames[0])\n",
    "    plt.axis('off')\n",
    "\n",
    "    def animate(i):\n",
    "        patch.set_data(frames[i])\n",
    "\n",
    "    anim = FuncAnimation(plt.gcf(), animate, frames = len(frames), interval=50)\n",
    "    plt.close()\n",
    "    return anim"
   ]
  }
 ],
 "metadata": {
  "kernelspec": {
   "display_name": "Python 3",
   "language": "python",
   "name": "python3"
  },
  "language_info": {
   "codemirror_mode": {
    "name": "ipython",
    "version": 3
   },
   "file_extension": ".py",
   "mimetype": "text/x-python",
   "name": "python",
   "nbconvert_exporter": "python",
   "pygments_lexer": "ipython3",
   "version": "3.8.8"
  }
 },
 "nbformat": 4,
 "nbformat_minor": 5
}

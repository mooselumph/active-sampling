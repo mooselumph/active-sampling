{
 "cells": [
  {
   "cell_type": "code",
   "execution_count": 1,
   "id": "152ada0e",
   "metadata": {},
   "outputs": [],
   "source": [
    "# from main import get_default_config, train_glow\n",
    "# from data import setup_data\n",
    "%load_ext autoreload\n",
    "%autoreload 1\n",
    "\n",
    "%aimport main\n",
    "%aimport train\n",
    "%aimport data"
   ]
  },
  {
   "cell_type": "code",
   "execution_count": 9,
   "id": "e86aa29b",
   "metadata": {},
   "outputs": [],
   "source": [
    "config_dict = {\n",
    "        'image_path': \"../../datasets/stickman/e\",\n",
    "        'ext':'png',\n",
    "        'train_split': 0.6,\n",
    "        'image_size': 32,\n",
    "        'num_channels': 3,\n",
    "        'num_bits': 5,\n",
    "        'batch_size': 50,\n",
    "        'K': 16,\n",
    "        'L': 3,\n",
    "        'nn_width': 512, \n",
    "        'learn_top_prior': True,\n",
    "        'sampling_temperature': 0.7,\n",
    "        'init_lr': 1e-4,\n",
    "        'num_epochs': 100,\n",
    "        'num_warmup_epochs': 1,\n",
    "        'num_sample_epochs': 1, # Fractional epochs for sampling because one epoch is quite long \n",
    "        'num_save_epochs': 5,\n",
    "    }"
   ]
  },
  {
   "cell_type": "code",
   "execution_count": 10,
   "id": "dacbc616",
   "metadata": {},
   "outputs": [
    {
     "name": "stdout",
     "output_type": "stream",
     "text": [
      "20000 training images\n",
      "400 training steps per epoch\n"
     ]
    },
    {
     "data": {
      "image/png": "[encoded data removed]",
      "text/plain": [
       "<Figure size 720x720 with 50 Axes>"
      ]
     },
     "metadata": {
      "needs_background": "light"
     },
     "output_type": "display_data"
    }
   ],
   "source": [
    "train_ds, val_ds = data.setup_data(config_dict,show_grid=True)"
   ]
  },
  {
   "cell_type": "code",
   "execution_count": 11,
   "id": "c531bc8d",
   "metadata": {},
   "outputs": [
    {
     "data": {
      "text/plain": [
       "(50, 32, 32, 3)"
      ]
     },
     "execution_count": 11,
     "metadata": {},
     "output_type": "execute_result"
    }
   ],
   "source": [
    "next(train_ds).shape"
   ]
  },
  {
   "cell_type": "code",
   "execution_count": 13,
   "id": "ac52031a",
   "metadata": {},
   "outputs": [
    {
     "name": "stdout",
     "output_type": "stream",
     "text": [
      "Start training...\n",
      "Available jax devices: [GpuDevice(id=0, process_index=0), GpuDevice(id=1, process_index=0), GpuDevice(id=2, process_index=0), GpuDevice(id=3, process_index=0)]\n",
      "\n",
      "\u001b[92m[Epoch 1/100]\u001b[0m[00h 01mn] train_bits/dims = 0.603, val_bits/dims = 0.123                                                  \n",
      "\u001b[92m[Epoch 2/100]\u001b[0m[00h 03mn] train_bits/dims = 0.506, val_bits/dims = -0.004                                                  \n",
      "\u001b[92m[Epoch 3/100]\u001b[0m[00h 04mn] train_bits/dims = 0.513, val_bits/dims = -0.030                                                  \n",
      "\u001b[92m[Epoch 4/100]\u001b[0m[00h 05mn] train_bits/dims = 0.479, val_bits/dims = -0.029                                                  \n",
      "\u001b[92m[Epoch 5/100]\u001b[0m[00h 06mn] train_bits/dims = 0.465, val_bits/dims = -0.013                                                  \n",
      "\u001b[92m[Epoch 6/100]\u001b[0m[00h 07mn] train_bits/dims = 0.469, val_bits/dims = 0.007                                                  \n",
      "\u001b[92m[Epoch 7/100]\u001b[0m[00h 08mn] train_bits/dims = 0.464, val_bits/dims = 0.018                                                  \n",
      "\u001b[92m[Epoch 8/100]\u001b[0m[00h 09mn] train_bits/dims = 0.459, val_bits/dims = 0.030                                                  \n",
      "\u001b[92m[Epoch 9/100]\u001b[0m[00h 10mn] train_bits/dims = 0.451, val_bits/dims = 0.042                                                  \n",
      "\u001b[92m[Epoch 10/100]\u001b[0m[00h 11mn] train_bits/dims = 0.449, val_bits/dims = 0.089                                                  \n",
      "\u001b[92m[Epoch 11/100]\u001b[0m[00h 12mn] train_bits/dims = 0.442, val_bits/dims = 0.076                                                  \n",
      "\u001b[92m[Epoch 12/100]\u001b[0m[00h 13mn] train_bits/dims = 0.435, val_bits/dims = 0.094                                                  \n",
      "\u001b[92m[Epoch 13/100]\u001b[0m[00h 14mn] train_bits/dims = 0.428, val_bits/dims = 0.131                                                  \n",
      "\u001b[92m[Epoch 14/100]\u001b[0m[00h 15mn] train_bits/dims = 0.425, val_bits/dims = 0.149                                                  \n",
      "\u001b[92m[Epoch 15/100]\u001b[0m[00h 17mn] train_bits/dims = 0.417, val_bits/dims = 0.167                                                  \n",
      "\u001b[92m[Epoch 16/100]\u001b[0m[00h 18mn] train_bits/dims = 0.416, val_bits/dims = 0.166                                                  \n",
      "\u001b[92m[Epoch 17/100]\u001b[0m[00h 19mn] train_bits/dims = 0.409, val_bits/dims = 0.204                                                  \n",
      "\u001b[92m[Epoch 18/100]\u001b[0m[00h 20mn] train_bits/dims = 0.410, val_bits/dims = 0.190                                                  \n",
      "\u001b[92m[Epoch 19/100]\u001b[0m[00h 21mn] train_bits/dims = 0.402, val_bits/dims = 0.239                                                  \n",
      "\u001b[92m[Epoch 20/100]\u001b[0m[00h 22mn] train_bits/dims = 0.394, val_bits/dims = 0.283                                                  \n",
      "\u001b[92m[Epoch 21/100]\u001b[0m[00h 23mn] train_bits/dims = 0.387, val_bits/dims = 0.320                                                  \n",
      "\u001b[92m[Epoch 22/100]\u001b[0m[00h 24mn] train_bits/dims = 0.395, val_bits/dims = 0.338                                                  \n",
      "\u001b[92m[Epoch 23/100]\u001b[0m[00h 25mn] train_bits/dims = 0.388, val_bits/dims = 0.360                                                  \n",
      "\u001b[92m[Epoch 24/100]\u001b[0m[00h 26mn] train_bits/dims = 0.384, val_bits/dims = 0.376                                                  \n",
      "\u001b[92m[Epoch 25/100]\u001b[0m[00h 27mn] train_bits/dims = 0.373, val_bits/dims = 0.571                                                  \n",
      "\u001b[92m[Epoch 26/100]\u001b[0m[00h 28mn] train_bits/dims = 0.370, val_bits/dims = 0.581                                                  \n",
      "\u001b[92m[Epoch 27/100]\u001b[0m[00h 29mn] train_bits/dims = 0.373, val_bits/dims = 0.703                                                  \n",
      "\u001b[92m[Epoch 28/100]\u001b[0m[00h 30mn] train_bits/dims = 0.368, val_bits/dims = 0.851                                                  \n",
      "\u001b[92m[Epoch 29/100]\u001b[0m[00h 32mn] train_bits/dims = 0.363, val_bits/dims = 0.917                                                  \n",
      "\u001b[92m[Epoch 30/100]\u001b[0m[00h 33mn] train_bits/dims = 0.353, val_bits/dims = 0.951                                                  \n",
      "\u001b[92m[Epoch 31/100]\u001b[0m[00h 34mn] train_bits/dims = 0.352, val_bits/dims = 1.050                                                  \n",
      "\u001b[92m[Epoch 32/100]\u001b[0m[00h 35mn] train_bits/dims = 0.356, val_bits/dims = 1.446                                                  \n",
      "\u001b[92m[Epoch 33/100]\u001b[0m[00h 36mn] train_bits/dims = 0.349, val_bits/dims = 1.453                                                  \n",
      "\u001b[92m[Epoch 34/100]\u001b[0m[00h 37mn] train_bits/dims = 0.353, val_bits/dims = 1.403                                                  \n",
      "\u001b[92m[Epoch 35/100]\u001b[0m[00h 38mn] train_bits/dims = 0.344, val_bits/dims = 1.611                                                  \n",
      "\u001b[92m[Epoch 36/100]\u001b[0m[00h 39mn] train_bits/dims = 0.345, val_bits/dims = 1.785                                                  \n",
      "\u001b[92m[Epoch 37/100]\u001b[0m[00h 40mn] train_bits/dims = 0.340, val_bits/dims = 1.599                                                  \n",
      "\u001b[92m[Epoch 38/100]\u001b[0m[00h 41mn] train_bits/dims = 0.332, val_bits/dims = 1.809                                                  \n",
      "\u001b[92m[Epoch 39/100]\u001b[0m[00h 42mn] train_bits/dims = 0.348, val_bits/dims = 1.919                                                  \n",
      "\u001b[92m[Epoch 40/100]\u001b[0m[00h 43mn] train_bits/dims = 0.336, val_bits/dims = 2.143                                                  \n",
      "\u001b[92m[Epoch 41/100]\u001b[0m[00h 44mn] train_bits/dims = 0.339, val_bits/dims = 2.022                                                  \n",
      "\u001b[92m[Epoch 42/100]\u001b[0m[00h 45mn] train_bits/dims = 0.339, val_bits/dims = 2.288                                                  \n",
      "\u001b[92m[Epoch 43/100]\u001b[0m[00h 46mn] train_bits/dims = 0.329, val_bits/dims = 1.927                                                  \n",
      "\u001b[92m[Epoch 44/100]\u001b[0m[00h 48mn] train_bits/dims = 0.335, val_bits/dims = 2.181                                                  \n",
      "\u001b[92m[Epoch 45/100]\u001b[0m[00h 49mn] train_bits/dims = 0.330, val_bits/dims = 2.425                                                  \n",
      "\u001b[92m[Epoch 46/100]\u001b[0m[00h 50mn] train_bits/dims = 0.320, val_bits/dims = 1.978                                                  \n",
      "\u001b[92m[Epoch 47/100]\u001b[0m[00h 51mn] train_bits/dims = 0.325, val_bits/dims = 2.226                                                  \n",
      "\u001b[92m[Epoch 48/100]\u001b[0m[00h 52mn] train_bits/dims = 0.326, val_bits/dims = 2.232                                                  \n",
      "\u001b[92m[Epoch 49/100]\u001b[0m[00h 53mn] train_bits/dims = 0.333, val_bits/dims = 2.198                                                  \n",
      "\u001b[92m[Epoch 50/100]\u001b[0m[00h 54mn] train_bits/dims = 0.323, val_bits/dims = 2.097                                                  \n",
      "\u001b[92m[Epoch 51/100]\u001b[0m[00h 55mn] train_bits/dims = 0.321, val_bits/dims = 2.381                                                  \n",
      "\u001b[92m[Epoch 52/100]\u001b[0m[00h 56mn] train_bits/dims = 0.319, val_bits/dims = 2.606                                                  \n",
      "\u001b[92m[Epoch 53/100]\u001b[0m[00h 57mn] train_bits/dims = 0.322, val_bits/dims = 2.615                                                  \n",
      "\u001b[92m[Epoch 54/100]\u001b[0m[00h 58mn] train_bits/dims = 0.318, val_bits/dims = 2.666                                                  \n",
      "\u001b[92m[Epoch 55/100]\u001b[0m[00h 59mn] train_bits/dims = 0.321, val_bits/dims = 2.696                                                  \n",
      "\u001b[92m[Epoch 56/100]\u001b[0m[01h 00mn] train_bits/dims = 0.318, val_bits/dims = 2.194                                                  \n",
      "\u001b[92m[Epoch 57/100]\u001b[0m[01h 01mn] train_bits/dims = 0.317, val_bits/dims = 2.129                                                  \n",
      "\u001b[92m[Epoch 58/100]\u001b[0m[01h 02mn] train_bits/dims = 0.317, val_bits/dims = 2.291                                                  \n",
      "\u001b[92m[Epoch 59/100]\u001b[0m[01h 04mn] train_bits/dims = 0.314, val_bits/dims = 1.827                                                  \n",
      "\u001b[92m[Epoch 60/100]\u001b[0m[01h 05mn] train_bits/dims = 0.313, val_bits/dims = 2.356                                                  \n",
      "\u001b[92m[Epoch 61/100]\u001b[0m[01h 06mn] train_bits/dims = 0.307, val_bits/dims = 2.278                                                  \n"
     ]
    },
    {
     "name": "stdout",
     "output_type": "stream",
     "text": [
      "\u001b[92m[Epoch 62/100]\u001b[0m[01h 07mn] train_bits/dims = 0.316, val_bits/dims = 2.212                                                  \n",
      "\u001b[92m[Epoch 63/100]\u001b[0m[01h 08mn] train_bits/dims = 0.307, val_bits/dims = 2.439                                                  \n",
      "\u001b[92m[Epoch 64/100]\u001b[0m[01h 09mn] train_bits/dims = 0.305, val_bits/dims = 2.306                                                  \n",
      "\u001b[92m[Epoch 65/100]\u001b[0m[01h 10mn] train_bits/dims = 0.304, val_bits/dims = 2.001                                                  \n",
      "\u001b[92m[Epoch 66/100]\u001b[0m[01h 11mn] train_bits/dims = 0.301, val_bits/dims = 2.201                                                  \n",
      "\u001b[92m[Epoch 67/100]\u001b[0m[01h 12mn] train_bits/dims = 0.303, val_bits/dims = 2.219                                                  \n",
      "\u001b[92m[Epoch 68/100]\u001b[0m[01h 13mn] train_bits/dims = 0.302, val_bits/dims = 1.944                                                  \n",
      "\u001b[92m[Epoch 69/100]\u001b[0m[01h 14mn] train_bits/dims = 0.309, val_bits/dims = 2.042                                                  \n",
      "\u001b[92m[Epoch 70/100]\u001b[0m[01h 15mn] train_bits/dims = 0.303, val_bits/dims = 2.102                                                  \n",
      "\u001b[92m[Epoch 71/100]\u001b[0m[01h 16mn] train_bits/dims = 0.307, val_bits/dims = 1.949                                                  \n",
      "\u001b[92m[Epoch 72/100]\u001b[0m[01h 17mn] train_bits/dims = 0.297, val_bits/dims = 2.084                                                  \n",
      "\u001b[92m[Epoch 73/100]\u001b[0m[01h 18mn] train_bits/dims = 0.301, val_bits/dims = 2.296                                                  \n",
      "\u001b[92m[Epoch 74/100]\u001b[0m[01h 19mn] train_bits/dims = 0.295, val_bits/dims = 2.045                                                  \n",
      "\u001b[92m[Epoch 75/100]\u001b[0m[01h 21mn] train_bits/dims = 0.301, val_bits/dims = 2.241                                                  \n",
      "\u001b[92m[Epoch 76/100]\u001b[0m[01h 22mn] train_bits/dims = 0.306, val_bits/dims = 2.628                                                  \n",
      "\u001b[92m[Epoch 77/100]\u001b[0m[01h 23mn] train_bits/dims = 0.305, val_bits/dims = 2.299                                                  \n",
      "\u001b[92m[Epoch 78/100]\u001b[0m[01h 24mn] train_bits/dims = 0.304, val_bits/dims = 2.134                                                  \n",
      "\u001b[92m[Epoch 79/100]\u001b[0m[01h 25mn] train_bits/dims = 0.297, val_bits/dims = 2.094                                                  \n",
      "\u001b[92m[Epoch 80/100]\u001b[0m[01h 26mn] train_bits/dims = 0.301, val_bits/dims = 2.374                                                  \n",
      "\u001b[92m[Epoch 81/100]\u001b[0m[01h 27mn] train_bits/dims = 0.299, val_bits/dims = 2.205                                                  \n",
      "\u001b[92m[Epoch 82/100]\u001b[0m\u001b[93m[Batch 106/400]\u001b[0m loss = 0.30436, (log(p(z)) = -1.15048, logdet = 5.84612)\n",
      "Interrupted by user at epoch 82\n"
     ]
    }
   ],
   "source": [
    "model, params = train.train_glow(train_ds, val_ds=val_ds, **config_dict)"
   ]
  },
  {
   "cell_type": "code",
   "execution_count": null,
   "id": "12d5b0ba",
   "metadata": {},
   "outputs": [],
   "source": []
  }
 ],
 "metadata": {
  "kernelspec": {
   "display_name": "Python 3",
   "language": "python",
   "name": "python3"
  },
  "language_info": {
   "codemirror_mode": {
    "name": "ipython",
    "version": 3
   },
   "file_extension": ".py",
   "mimetype": "text/x-python",
   "name": "python",
   "nbconvert_exporter": "python",
   "pygments_lexer": "ipython3",
   "version": "3.8.8"
  }
 },
 "nbformat": 4,
 "nbformat_minor": 5
}

{
 "cells": [
  {
   "cell_type": "code",
   "execution_count": 74,
   "id": "98713f0b",
   "metadata": {},
   "outputs": [],
   "source": [
    "import numpy as np\n",
    "import numpy.random as random\n",
    "import matplotlib.pyplot as plt\n",
    "\n",
    "import jax\n",
    "import jax.numpy as jnp\n",
    "\n",
    "import flax\n",
    "import flax.linen as nn\n",
    "\n",
    "import jax.nn.initializers as init\n"
   ]
  },
  {
   "cell_type": "markdown",
   "id": "fe66be6f",
   "metadata": {},
   "source": [
    "## Data Generation"
   ]
  },
  {
   "cell_type": "code",
   "execution_count": null,
   "id": "7342cf7e",
   "metadata": {},
   "outputs": [],
   "source": [
    "\n",
    "def get_data(size, sigma=0.1, noise=0.1):\n",
    "    \n",
    "    x = random.uniform(0,1,size=size)\n",
    "    x = np.sort(x)\n",
    "    \n",
    "    X,XT = np.meshgrid(x,x)\n",
    "    d = (X - XT)**2\n",
    "\n",
    "    cov = np.exp(-d / sigma**2) \n",
    "    mu = np.zeros(size)\n",
    "\n",
    "    y = random.multivariate_normal(mu,cov)\n",
    "    \n",
    "    n = random.normal(size=size)*noise\n",
    "\n",
    "    return x, y,y+n, cov\n",
    "\n",
    "\n",
    "x,y,yn, cov = get_data(20,0.4)\n",
    "plt.plot(x,y)\n",
    "plt.plot(x,yn,'o')"
   ]
  },
  {
   "cell_type": "markdown",
   "id": "559ea12c",
   "metadata": {},
   "source": [
    "## GP"
   ]
  },
  {
   "cell_type": "code",
   "execution_count": 107,
   "id": "a8376e71",
   "metadata": {},
   "outputs": [],
   "source": [
    "class GP(nn.Module):\n",
    "    \n",
    "    num_inducing_pts: int \n",
    "    num_dims: int = 0\n",
    "        \n",
    "    mu: float = 0\n",
    "        \n",
    "    init_ls: float = 0.1\n",
    "    init_ks: float = 0.1\n",
    "        \n",
    "    key: jax.random.PRNGKey = jax.random.PRNGKey(0)\n",
    "    \n",
    "    def setup(self):\n",
    "        \n",
    "        shape = (self.num_inducing_pts,) if self.num_dims == 0 else (self.num_inducing_pts, self.num_dims)\n",
    "        \n",
    "        Z = jax.random.uniform(self.key,shape=shape)\n",
    "        S = self.get_k()[0](Z,Z)\n",
    "\n",
    "        # Variational Parameters\n",
    "        self.Z = self.param('inducing_points',lambda _: Z)\n",
    "        self.m = self.param('mean',init.zeros,(self.num_inducing_pts,))\n",
    "        self.S = self.param('covariance',lambda _: S)\n",
    "        \n",
    "        # Generative Parameters\n",
    "        self.ls = self.param('likelihood_variance',lambda _: self.init_ls)\n",
    "        self.ks = self.param('kernel_variance',lambda _: self.init_ks)\n",
    "                                \n",
    "    def __call__(self,X):\n",
    "        \n",
    "        pass\n",
    "                       \n",
    "        \n",
    "    def get_k(self):\n",
    "        \n",
    "        if self.num_dims == 0:\n",
    "            k = lambda x, xp: (x - xp)**2\n",
    "        else:\n",
    "            k = lambda x, xp: jnp.sum((x - xp)**2,axis=-1) \n",
    "\n",
    "        K = jax.vmap(jax.vmap(k,(0,None),0),(None,0),1)\n",
    "        kv = jax.vmap(k,(0,None),0)\n",
    "        return K,kv,k\n",
    "        \n",
    "    def elbo(self,X,Y):\n",
    "        \n",
    "        # Calculate means and variances\n",
    "        K,kv,k = self.get_k()\n",
    "        Kuu = K(self.Z,self.Z)\n",
    "        Kuu_inv = np.linalg.inv(Kuu)\n",
    "        \n",
    "        @jax.vmap\n",
    "        def mu_and_var(x):\n",
    "            \n",
    "            ku = kv(self.Z,x).T\n",
    "            mu = self.mu + ku @ Kuu_inv @ (self.m - self.mu)\n",
    "            var = k(x,x) + ku @ Kuu_inv @ (self.S - Kuu) @ Kuu_inv @ ku.T\n",
    "            \n",
    "            return mu, var\n",
    "            \n",
    "        mu, var = mu_and_var(X)\n",
    "        \n",
    "        # expected log liklihood\n",
    "        L = jnp.log(1/jnp.sqrt(2*jnp.pi)*self.ls) + ((Y - mu)**2 + var) / (2 * self.ls)\n",
    "        L = jnp.sum(L)\n",
    "\n",
    "        \n",
    "        # KL - divergence\n",
    "        \n",
    "        def kl(m1,S1,m2,S2):\n",
    "            \n",
    "            S2inv = jnp.linalg.inv(S2)\n",
    "            \n",
    "            print(jnp.linalg.det(S2))\n",
    "            print(jnp.linalg.det(S1))\n",
    "\n",
    "            t = jnp.log(jnp.linalg.det(S2)/jnp.linalg.det(S1)) + jnp.trace(S2inv @ S1) + (m1-m2) @ S2inv @ (m1-m2)\n",
    "            return t/2\n",
    "        \n",
    "        KL = kl(self.m,self.S, self.mu, Kuu)\n",
    "        \n",
    "        return L - KL, Kuu, self.S\n",
    "            "
   ]
  },
  {
   "cell_type": "code",
   "execution_count": 54,
   "id": "0fea6bc9",
   "metadata": {},
   "outputs": [],
   "source": [
    "X,Y,Yn,_ = get_data(20,0.4)"
   ]
  },
  {
   "cell_type": "code",
   "execution_count": 122,
   "id": "36eef7ef",
   "metadata": {},
   "outputs": [
    {
     "name": "stdout",
     "output_type": "stream",
     "text": [
      "-0.0\n",
      "-0.0\n",
      "-0.0\n",
      "-0.0\n"
     ]
    }
   ],
   "source": [
    "key = jax.random.PRNGKey(5)\n",
    "\n",
    "gp = GP(10,key=key)\n",
    "params = gp.init(key,X,Y,method=gp.elbo)\n",
    "\n",
    "elbo, Kuu, S = gp.apply(params,X,Y,method=gp.elbo)"
   ]
  },
  {
   "cell_type": "code",
   "execution_count": 123,
   "id": "982a69a1",
   "metadata": {},
   "outputs": [
    {
     "data": {
      "text/plain": [
       "<matplotlib.image.AxesImage at 0x7fb1e87b16a0>"
      ]
     },
     "execution_count": 123,
     "metadata": {},
     "output_type": "execute_result"
    },
    {
     "data": {
      "image/png": "[encoded data removed]",
      "text/plain": [
       "<Figure size 432x288 with 1 Axes>"
      ]
     },
     "metadata": {
      "needs_background": "light"
     },
     "output_type": "display_data"
    }
   ],
   "source": [
    "plt.imshow(S)"
   ]
  },
  {
   "cell_type": "code",
   "execution_count": 124,
   "id": "128f9003",
   "metadata": {},
   "outputs": [
    {
     "data": {
      "text/plain": [
       "<matplotlib.image.AxesImage at 0x7fb1e870d4c0>"
      ]
     },
     "execution_count": 124,
     "metadata": {},
     "output_type": "execute_result"
    },
    {
     "data": {
      "image/png": "[encoded data removed]",
      "text/plain": [
       "<Figure size 432x288 with 1 Axes>"
      ]
     },
     "metadata": {
      "needs_background": "light"
     },
     "output_type": "display_data"
    }
   ],
   "source": [
    "plt.imshow(Kuu)"
   ]
  }
 ],
 "metadata": {
  "kernelspec": {
   "display_name": "Python 3",
   "language": "python",
   "name": "python3"
  },
  "language_info": {
   "codemirror_mode": {
    "name": "ipython",
    "version": 3
   },
   "file_extension": ".py",
   "mimetype": "text/x-python",
   "name": "python",
   "nbconvert_exporter": "python",
   "pygments_lexer": "ipython3",
   "version": "3.8.8"
  }
 },
 "nbformat": 4,
 "nbformat_minor": 5
}

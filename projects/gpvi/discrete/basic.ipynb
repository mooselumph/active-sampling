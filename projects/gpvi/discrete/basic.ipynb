{
 "cells": [
  {
   "cell_type": "code",
   "execution_count": 221,
   "id": "98713f0b",
   "metadata": {},
   "outputs": [],
   "source": [
    "import numpy as np\n",
    "import numpy.random as random\n",
    "import matplotlib.pyplot as plt\n",
    "\n",
    "import jax\n",
    "import jax.numpy as jnp\n",
    "\n",
    "import flax\n",
    "import flax.linen as nn\n",
    "\n",
    "import jax.nn.initializers as init\n",
    "\n",
    "from functools import partial\n",
    "\n",
    "from tqdm.auto import tqdm"
   ]
  },
  {
   "cell_type": "markdown",
   "id": "fe66be6f",
   "metadata": {},
   "source": [
    "## Data Generation"
   ]
  },
  {
   "cell_type": "code",
   "execution_count": 164,
   "id": "7342cf7e",
   "metadata": {},
   "outputs": [
    {
     "data": {
      "text/plain": [
       "[<matplotlib.lines.Line2D at 0x7fb1e815bac0>]"
      ]
     },
     "execution_count": 164,
     "metadata": {},
     "output_type": "execute_result"
    },
    {
     "data": {
      "image/png": "[encoded data removed]",
      "text/plain": [
       "<Figure size 432x288 with 1 Axes>"
      ]
     },
     "metadata": {
      "needs_background": "light"
     },
     "output_type": "display_data"
    }
   ],
   "source": [
    "\n",
    "def get_data(size, sigma=0.1, noise=0.1):\n",
    "    \n",
    "    x = random.uniform(0,1,size=size)\n",
    "    x = np.sort(x)\n",
    "    \n",
    "    X,XT = np.meshgrid(x,x)\n",
    "    d = (X - XT)**2\n",
    "\n",
    "    cov = np.exp(-d / sigma**2) \n",
    "    mu = np.zeros(size)\n",
    "\n",
    "    y = random.multivariate_normal(mu,cov)\n",
    "    \n",
    "    n = random.normal(size=size)*noise\n",
    "\n",
    "    return x, y,y+n, cov\n",
    "\n",
    "\n",
    "x,y,yn, cov = get_data(20,0.3)\n",
    "plt.plot(x,y)\n",
    "plt.plot(x,yn,'o')"
   ]
  },
  {
   "cell_type": "code",
   "execution_count": 166,
   "id": "e37f75c8",
   "metadata": {},
   "outputs": [
    {
     "data": {
      "text/plain": [
       "<matplotlib.image.AxesImage at 0x7fb1e80ba610>"
      ]
     },
     "execution_count": 166,
     "metadata": {},
     "output_type": "execute_result"
    },
    {
     "data": {
      "image/png": "[encoded data removed]",
      "text/plain": [
       "<Figure size 432x288 with 1 Axes>"
      ]
     },
     "metadata": {
      "needs_background": "light"
     },
     "output_type": "display_data"
    }
   ],
   "source": [
    "plt.imshow(cov)"
   ]
  },
  {
   "cell_type": "code",
   "execution_count": 128,
   "id": "f5e15337",
   "metadata": {},
   "outputs": [
    {
     "data": {
      "text/plain": [
       "(20, 20)"
      ]
     },
     "execution_count": 128,
     "metadata": {},
     "output_type": "execute_result"
    }
   ],
   "source": [
    "cov.shape"
   ]
  },
  {
   "cell_type": "markdown",
   "id": "559ea12c",
   "metadata": {},
   "source": [
    "## GP"
   ]
  },
  {
   "cell_type": "code",
   "execution_count": 215,
   "id": "a8376e71",
   "metadata": {},
   "outputs": [],
   "source": [
    "class GP(nn.Module):\n",
    "    \n",
    "    num_inducing_pts: int \n",
    "    num_dims: int = 0\n",
    "        \n",
    "    mu: float = 0\n",
    "        \n",
    "    init_ls: float = 0.1\n",
    "    init_ks: float = 0.1\n",
    "        \n",
    "    key: jax.random.PRNGKey = jax.random.PRNGKey(0)\n",
    "    \n",
    "    def setup(self):\n",
    "        \n",
    "        \n",
    "        # Generative Parameters\n",
    "#         self.ls = self.param('likelihood_variance',lambda _: self.init_ls)\n",
    "#         self.ks = self.param('kernel_variance',lambda _: self.init_ks)\n",
    "        self.ls = self.init_ls\n",
    "        self.ks = self.init_ks\n",
    "        \n",
    "        if self.num_dims == 0:\n",
    "            Z = jnp.linspace(0,1,self.num_inducing_pts)\n",
    "        else:\n",
    "            shape = (self.num_inducing_pts,) if self.num_dims == 0 else (self.num_inducing_pts, self.num_dims)\n",
    "            Z = jax.random.uniform(self.key,shape=shape)\n",
    "            \n",
    "        S = self.get_k()[0](Z,Z)\n",
    "\n",
    "        # Variational Parameters\n",
    "        self.Z = self.param('inducing_points',lambda _: Z)\n",
    "        self.m = self.param('mean',init.zeros,(self.num_inducing_pts,))\n",
    "        self.S = self.param('covariance',lambda _: S)\n",
    "        \n",
    "                                \n",
    "    def __call__(self,X):\n",
    "        \n",
    "        pass\n",
    "                       \n",
    "        \n",
    "    def get_k(self):\n",
    "        \n",
    "        if self.num_dims == 0:\n",
    "            k = lambda x, xp: jnp.exp( -(x - xp)**2 / (2 * self.ks) )\n",
    "        else:\n",
    "            k = lambda x, xp: jnp.exp( -jnp.sum((x - xp)**2,axis=-1) / (2 * self.ks) )\n",
    "\n",
    "        K = jax.vmap(jax.vmap(k,(0,None),0),(None,0),1)\n",
    "        kv = jax.vmap(k,(0,None),0)\n",
    "        return K,kv,k\n",
    "        \n",
    "    def elbo(self,X,Y):\n",
    "        \n",
    "        # Calculate means and variances\n",
    "        K,kv,k = self.get_k()\n",
    "        Kuu = K(self.Z,self.Z)\n",
    "        Kuu_inv = jnp.linalg.inv(Kuu)\n",
    "        \n",
    "        @jax.vmap\n",
    "        def mu_and_var(x):\n",
    "            \n",
    "            ku = kv(self.Z,x).T\n",
    "            mu = self.mu + ku @ Kuu_inv @ (self.m - self.mu)\n",
    "            var = k(x,x) + ku @ Kuu_inv @ (self.S - Kuu) @ Kuu_inv @ ku.T\n",
    "            \n",
    "            return mu, var\n",
    "            \n",
    "        mu, var = mu_and_var(X)\n",
    "        \n",
    "        # expected log liklihood\n",
    "        L = jnp.log(1/jnp.sqrt(2*jnp.pi)*self.ls) - ((Y - mu)**2 + var) / (2 * self.ls)\n",
    "        L = jnp.sum(L)\n",
    "\n",
    "        \n",
    "        # KL - divergence\n",
    "        \n",
    "        def kl(m1,S1,m2,S2):\n",
    "            \n",
    "            S2inv = jnp.linalg.inv(S2)\n",
    "            \n",
    "            t = jnp.log(jnp.linalg.det(S2)/jnp.linalg.det(S1)) + jnp.trace(S2inv @ S1) + (m1-m2) @ S2inv @ (m1-m2) - self.num_inducing_pts\n",
    "            return t/2\n",
    "        \n",
    "        KL = kl(self.m,self.S, self.mu, Kuu)\n",
    "        \n",
    "#         print(f'L: {L}')\n",
    "#         print(f'KL: {KL}')\n",
    "        \n",
    "        return L - KL\n",
    "            "
   ]
  },
  {
   "cell_type": "code",
   "execution_count": 246,
   "id": "0fea6bc9",
   "metadata": {},
   "outputs": [
    {
     "data": {
      "text/plain": [
       "[<matplotlib.lines.Line2D at 0x7fb17078da60>]"
      ]
     },
     "execution_count": 246,
     "metadata": {},
     "output_type": "execute_result"
    },
    {
     "data": {
      "image/png": "[encoded data removed]",
      "text/plain": [
       "<Figure size 432x288 with 1 Axes>"
      ]
     },
     "metadata": {
      "needs_background": "light"
     },
     "output_type": "display_data"
    }
   ],
   "source": [
    "X,Y,Yn,_ = get_data(20,0.4)\n",
    "\n",
    "plt.plot(X,Y)\n",
    "plt.plot(X,Yn,'o')"
   ]
  },
  {
   "cell_type": "code",
   "execution_count": 258,
   "id": "36eef7ef",
   "metadata": {},
   "outputs": [],
   "source": [
    "key = jax.random.PRNGKey(5)\n",
    "\n",
    "gp = GP(10,init_ks=0.001,key=key)\n",
    "params = gp.init(key,X,Y,method=gp.elbo)\n",
    "\n",
    "elbo = partial(gp.apply,X=X,Y=Y,method=gp.elbo)\n",
    "\n",
    "grad_fn = jax.jit(jax.grad(elbo))"
   ]
  },
  {
   "cell_type": "code",
   "execution_count": 274,
   "id": "ba6afd86",
   "metadata": {},
   "outputs": [
    {
     "data": {
      "application/vnd.jupyter.widget-view+json": {
       "model_id": "eaeef741cda24e9b9d9a359dbd5ad3e0",
       "version_major": 2,
       "version_minor": 0
      },
      "text/plain": [
       "  0%|          | 0/1000 [00:00<?, ?it/s]"
      ]
     },
     "metadata": {},
     "output_type": "display_data"
    }
   ],
   "source": [
    "lr = 0.00005\n",
    "\n",
    "num_iters = 1000\n",
    "\n",
    "pbar = tqdm(range(num_iters))\n",
    "\n",
    "for _ in pbar:\n",
    "    \n",
    "    pbar.set_description(f'ELBO: {elbo(params) :.2f}')\n",
    "    \n",
    "    grads = grad_fn(params)\n",
    "    \n",
    "    params = jax.tree_multimap(\n",
    "          lambda p, g: p + lr * g, params, grads\n",
    "      )\n",
    "    "
   ]
  },
  {
   "cell_type": "code",
   "execution_count": 273,
   "id": "1a2fcc48",
   "metadata": {},
   "outputs": [
    {
     "data": {
      "text/plain": [
       "[<matplotlib.lines.Line2D at 0x7fb1702157f0>]"
      ]
     },
     "execution_count": 273,
     "metadata": {},
     "output_type": "execute_result"
    },
    {
     "data": {
      "image/png": "[encoded data removed]",
      "text/plain": [
       "<Figure size 432x288 with 1 Axes>"
      ]
     },
     "metadata": {
      "needs_background": "light"
     },
     "output_type": "display_data"
    }
   ],
   "source": [
    "S = params['params']['covariance']\n",
    "m = params['params']['mean']\n",
    "Z = params['params']['inducing_points']\n",
    "\n",
    "plt.plot(X,Y)\n",
    "plt.plot(X,Yn,'o')\n",
    "plt.plot(Z,m,'.-')"
   ]
  }
 ],
 "metadata": {
  "kernelspec": {
   "display_name": "Python 3",
   "language": "python",
   "name": "python3"
  },
  "language_info": {
   "codemirror_mode": {
    "name": "ipython",
    "version": 3
   },
   "file_extension": ".py",
   "mimetype": "text/x-python",
   "name": "python",
   "nbconvert_exporter": "python",
   "pygments_lexer": "ipython3",
   "version": "3.8.8"
  }
 },
 "nbformat": 4,
 "nbformat_minor": 5
}

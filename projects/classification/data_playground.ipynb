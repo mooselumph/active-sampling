{
 "cells": [
  {
   "cell_type": "code",
   "execution_count": null,
   "id": "be6458d5",
   "metadata": {},
   "outputs": [],
   "source": [
    "import numpy as np\n",
    "\n",
    "import jax\n",
    "import jax.numpy as jnp\n",
    "\n",
    "from flax import linen as nn\n",
    "from flax.metrics import tensorboard\n",
    "from flax.training import train_state\n",
    "\n",
    "from omegaconf import OmegaConf\n",
    "import optax\n",
    "\n",
    "from functools import partial"
   ]
  },
  {
   "cell_type": "code",
   "execution_count": null,
   "id": "25e31c05",
   "metadata": {},
   "outputs": [],
   "source": [
    "import models\n",
    "from data import stickman\n",
    "\n",
    "from train import train_and_evaluate\n",
    "import tensorflow as tf\n",
    "import logging\n",
    "\n",
    "import hydra\n",
    "from omegaconf import OmegaConf"
   ]
  },
  {
   "cell_type": "code",
   "execution_count": null,
   "id": "ec3312c8",
   "metadata": {},
   "outputs": [],
   "source": [
    "import os\n",
    "from hydra import initialize, initialize_config_module, initialize_config_dir, compose"
   ]
  },
  {
   "cell_type": "code",
   "execution_count": null,
   "id": "611fc05f",
   "metadata": {},
   "outputs": [],
   "source": [
    "overrides = [\n",
    "    \"train.batch_size=100\"\n",
    "]\n",
    "\n",
    "hydra.core.global_hydra.GlobalHydra.instance().clear()\n",
    "initialize(config_path=\"configs\")\n",
    "config = compose(config_name=\"default.yaml\", overrides=overrides)"
   ]
  },
  {
   "cell_type": "code",
   "execution_count": null,
   "id": "3b33a712",
   "metadata": {},
   "outputs": [],
   "source": [
    "train_ds, test_ds = stickman.setup_data(config)"
   ]
  },
  {
   "cell_type": "code",
   "execution_count": null,
   "id": "fbb334fe",
   "metadata": {},
   "outputs": [],
   "source": [
    "print(OmegaConf.to_yaml(config))"
   ]
  },
  {
   "cell_type": "code",
   "execution_count": null,
   "id": "c3672701",
   "metadata": {},
   "outputs": [],
   "source": [
    "\n",
    "class Dataset():\n",
    "    def __init__(self, x, y): \n",
    "        self.x = x\n",
    "        self.y = y\n",
    "\n",
    "    def __len__(self): \n",
    "        return len(self.x)\n",
    "\n",
    "    def __getitem__(self, i): \n",
    "        return self.x[i],self.y[i]\n",
    "\n",
    "\n",
    "class Sampler():\n",
    "    def __init__(self, ds, bs, shuffle=False, seed=None):\n",
    "        self.n = len(ds)\n",
    "        self.bs = bs\n",
    "        self.shuffle = shuffle\n",
    "        self.rng = np.random.default_rng(seed=seed)\n",
    "        \n",
    "    def __iter__(self):\n",
    "        self.idxs = self.rng.permutation(self.n) if self.shuffle else np.arange(self.n)\n",
    "        for i in range(0, self.n, self.bs):\n",
    "            yield self.idxs[i:i+self.bs]\n",
    "\n",
    "\n",
    "class DataLoader():\n",
    "    def __init__(self, ds, sampler):\n",
    "        self.ds = ds\n",
    "        self.sampler = sampler\n",
    "        \n",
    "    def __iter__(self):\n",
    "        for s in self.sampler:\n",
    "            yield self.collate([self.ds[i] for i in s])\n",
    "\n",
    "    def collate(self, b):\n",
    "        xs,ys = zip(*b)\n",
    "        return np.stack(xs),np.stack(ys)\n",
    "\n"
   ]
  },
  {
   "cell_type": "code",
   "execution_count": null,
   "id": "bffe1b15",
   "metadata": {},
   "outputs": [],
   "source": [
    "x_train, y_train = train_ds"
   ]
  },
  {
   "cell_type": "code",
   "execution_count": null,
   "id": "809edf7c",
   "metadata": {},
   "outputs": [],
   "source": [
    "ds = Dataset(x_train, y_train)"
   ]
  },
  {
   "cell_type": "code",
   "execution_count": null,
   "id": "171b73e0",
   "metadata": {},
   "outputs": [],
   "source": [
    "ds"
   ]
  },
  {
   "cell_type": "code",
   "execution_count": null,
   "id": "61bbe1d6",
   "metadata": {},
   "outputs": [],
   "source": [
    "s = Sampler(ds, 3, shuffle=True, seed=42)\n",
    "dataloader = DataLoader(ds, s)"
   ]
  },
  {
   "cell_type": "code",
   "execution_count": null,
   "id": "fbd50b20",
   "metadata": {},
   "outputs": [],
   "source": [
    "# This finally works\n",
    "\n",
    "batch1 = None\n",
    "batch2 = None\n",
    "for idx, (xb, yb) in enumerate(dataloader):\n",
    "    if idx == 0:\n",
    "        batch1 = xb\n",
    "\n",
    "for idx, (xb, yb) in enumerate(dataloader):\n",
    "    if idx == 0:\n",
    "        batch2 = xb     "
   ]
  },
  {
   "cell_type": "code",
   "execution_count": null,
   "id": "c29e3d47",
   "metadata": {},
   "outputs": [],
   "source": [
    "for x,z in dataloader:\n",
    "    print(x.shape)\n",
    "    break"
   ]
  },
  {
   "cell_type": "code",
   "execution_count": null,
   "id": "c6c49366",
   "metadata": {},
   "outputs": [],
   "source": [
    "iterator = iter(dataloader)"
   ]
  },
  {
   "cell_type": "code",
   "execution_count": null,
   "id": "efae8e88",
   "metadata": {},
   "outputs": [],
   "source": [
    "while True:\n",
    "    try:\n",
    "        next(iterator)\n",
    "    except StopIteration:\n",
    "        print(\"exiting...\")\n",
    "        break\n",
    "    "
   ]
  },
  {
   "cell_type": "code",
   "execution_count": null,
   "id": "d3460742",
   "metadata": {},
   "outputs": [],
   "source": [
    "next(iterator)"
   ]
  }
 ],
 "metadata": {
  "kernelspec": {
   "display_name": "Python 3",
   "language": "python",
   "name": "python3"
  },
  "language_info": {
   "codemirror_mode": {
    "name": "ipython",
    "version": 3
   },
   "file_extension": ".py",
   "mimetype": "text/x-python",
   "name": "python",
   "nbconvert_exporter": "python",
   "pygments_lexer": "ipython3",
   "version": "3.8.8"
  }
 },
 "nbformat": 4,
 "nbformat_minor": 5
}

{
 "cells": [
  {
   "cell_type": "code",
   "execution_count": 1,
   "id": "a396b9ab",
   "metadata": {},
   "outputs": [],
   "source": [
    "import os\n",
    "os.environ[\"CUDA_DEVICE_ORDER\"]=\"PCI_BUS_ID\"   # see issue #152\n",
    "os.environ[\"CUDA_VISIBLE_DEVICES\"]=\"1\""
   ]
  },
  {
   "cell_type": "code",
   "execution_count": 2,
   "id": "b4b792e5",
   "metadata": {},
   "outputs": [],
   "source": [
    "import tensorflow as tf\n",
    "tf.config.experimental.set_visible_devices([], 'GPU')"
   ]
  },
  {
   "cell_type": "code",
   "execution_count": 3,
   "id": "c7b86c7d",
   "metadata": {},
   "outputs": [],
   "source": [
    "from hydra import compose, initialize\n",
    "import hydra\n",
    "\n",
    "import jax\n",
    "import jax.numpy as jnp\n",
    "from jax import device_put\n",
    "import flax\n",
    "\n",
    "import numpy as np\n",
    "\n",
    "from functools import partial\n",
    "\n",
    "import matplotlib.pyplot as plt\n",
    "\n",
    "from tqdm.auto import tqdm\n",
    "\n",
    "from einops import repeat"
   ]
  },
  {
   "cell_type": "code",
   "execution_count": 4,
   "id": "9e97d0b0",
   "metadata": {},
   "outputs": [],
   "source": [
    "%load_ext autoreload\n",
    "%autoreload 1\n",
    "\n",
    "%aimport train\n",
    "%aimport data\n",
    "%aimport models\n",
    "%aimport hypermodels\n",
    "%aimport jax_flows"
   ]
  },
  {
   "cell_type": "code",
   "execution_count": 5,
   "id": "3b9d8d05",
   "metadata": {},
   "outputs": [],
   "source": [
    "# load the config file used for this run\n",
    "hydra.core.global_hydra.GlobalHydra.instance().clear()\n",
    "\n",
    "run_path = 'outputs/stickmanf/2021-10-12_23-58-53/'\n",
    "initialize(config_path=run_path + '/.hydra', job_name=\"eval\")\n",
    "config = compose(config_name=\"config\")"
   ]
  },
  {
   "cell_type": "code",
   "execution_count": 6,
   "id": "b820e3d3",
   "metadata": {},
   "outputs": [
    {
     "data": {
      "text/plain": [
       "{'run': {'name': 'stickmanf', 'tags': '${now:%Y-%m-%d_%H-%M-%S}'}, 'model': {'checkpoint_path': ''}, 'bijection': {'type': 'vanilla', 'params': {'conv_widths': [16, 32], 'num_conv_layers_per_scale': 4, 'mlp_width': 392, 'num_mlp_layers': 2}}, 'data': {'image_path': '../../datasets/stickman/g', 'ext': 'png', 'image_size': 32, 'num_channels': 1, 'train_split': 0.1, 'num_bits': 5}, 'train': {'sigma_output': 0.1, 'num_epochs': 100, 'batch_size': 64, 'num_warmup_epochs': 1, 'num_sample_epochs': 0.5, 'num_save_epochs': 1, 'num_samples': 9}, 'optim': {'init_lr': 0.0001}}"
      ]
     },
     "execution_count": 6,
     "metadata": {},
     "output_type": "execute_result"
    }
   ],
   "source": [
    "config"
   ]
  },
  {
   "cell_type": "code",
   "execution_count": null,
   "id": "e72a287b",
   "metadata": {},
   "outputs": [
    {
     "name": "stdout",
     "output_type": "stream",
     "text": [
      "20000 training images\n",
      "312 training steps per epoch\n"
     ]
    }
   ],
   "source": [
    "train_ds, val_ds = data.setup_data(config,show_grid=False)\n",
    "random_key = jax.random.PRNGKey(0)\n",
    "model, params = models.load_model(config,train_ds,random_key)\n",
    "hypermodel = hypermodels.DiagonalGaussian(model,params)\n",
    "x, y = next(train_ds)\n",
    "hparams = jax.jit(hypermodel.init)(random_key , x)\n",
    "path = 'outputs/stickmanf/2021-10-12_23-58-53/weights/model_epoch=005.weights'\n",
    "with open(path, 'rb') as f:\n",
    "    hparams = flax.serialization.from_bytes(hparams, f.read())"
   ]
  },
  {
   "cell_type": "code",
   "execution_count": null,
   "id": "e03a45a6",
   "metadata": {},
   "outputs": [],
   "source": []
  }
 ],
 "metadata": {
  "kernelspec": {
   "display_name": "Python 3",
   "language": "python",
   "name": "python3"
  },
  "language_info": {
   "codemirror_mode": {
    "name": "ipython",
    "version": 3
   },
   "file_extension": ".py",
   "mimetype": "text/x-python",
   "name": "python",
   "nbconvert_exporter": "python",
   "pygments_lexer": "ipython3",
   "version": "3.8.8"
  }
 },
 "nbformat": 4,
 "nbformat_minor": 5
}

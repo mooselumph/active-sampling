{
 "cells": [
  {
   "cell_type": "code",
   "execution_count": 1,
   "id": "a396b9ab",
   "metadata": {},
   "outputs": [],
   "source": [
    "import os\n",
    "os.environ[\"CUDA_DEVICE_ORDER\"]=\"PCI_BUS_ID\"   # see issue #152\n",
    "os.environ[\"CUDA_VISIBLE_DEVICES\"]=\"1\""
   ]
  },
  {
   "cell_type": "code",
   "execution_count": 2,
   "id": "b4b792e5",
   "metadata": {},
   "outputs": [],
   "source": [
    "import tensorflow as tf\n",
    "tf.config.experimental.set_visible_devices([], 'GPU')"
   ]
  },
  {
   "cell_type": "code",
   "execution_count": 3,
   "id": "c7b86c7d",
   "metadata": {},
   "outputs": [],
   "source": [
    "from hydra import compose, initialize\n",
    "import hydra\n",
    "\n",
    "import jax\n",
    "import jax.numpy as jnp\n",
    "from jax import device_put\n",
    "import flax\n",
    "\n",
    "import numpy as np\n",
    "\n",
    "from functools import partial\n",
    "\n",
    "import matplotlib.pyplot as plt\n",
    "\n",
    "from tqdm.auto import tqdm\n",
    "\n",
    "from einops import repeat"
   ]
  },
  {
   "cell_type": "code",
   "execution_count": 4,
   "id": "9e97d0b0",
   "metadata": {},
   "outputs": [],
   "source": [
    "%load_ext autoreload\n",
    "%autoreload 1\n",
    "\n",
    "%aimport train\n",
    "%aimport data\n",
    "%aimport models\n",
    "%aimport hypermodels\n",
    "%aimport jax_flows"
   ]
  },
  {
   "cell_type": "code",
   "execution_count": 5,
   "id": "3b9d8d05",
   "metadata": {},
   "outputs": [],
   "source": [
    "# load the config file used for this run\n",
    "hydra.core.global_hydra.GlobalHydra.instance().clear()\n",
    "\n",
    "run_path = 'outputs/stickmanf/2021-10-12_23-58-53/'\n",
    "initialize(config_path=run_path + '/.hydra', job_name=\"eval\")\n",
    "config = compose(config_name=\"config\")"
   ]
  },
  {
   "cell_type": "code",
   "execution_count": 6,
   "id": "b820e3d3",
   "metadata": {},
   "outputs": [
    {
     "data": {
      "text/plain": [
       "{'run': {'name': 'stickmanf', 'tags': '${now:%Y-%m-%d_%H-%M-%S}'}, 'model': {'checkpoint_path': ''}, 'bijection': {'type': 'vanilla', 'params': {'conv_widths': [16, 32], 'num_conv_layers_per_scale': 4, 'mlp_width': 392, 'num_mlp_layers': 2}}, 'data': {'image_path': '../../datasets/stickman/g', 'ext': 'png', 'image_size': 32, 'num_channels': 1, 'train_split': 0.1, 'num_bits': 5}, 'train': {'sigma_output': 0.1, 'num_epochs': 100, 'batch_size': 64, 'num_warmup_epochs': 1, 'num_sample_epochs': 0.5, 'num_save_epochs': 1, 'num_samples': 9}, 'optim': {'init_lr': 0.0001}}"
      ]
     },
     "execution_count": 6,
     "metadata": {},
     "output_type": "execute_result"
    }
   ],
   "source": [
    "config"
   ]
  },
  {
   "cell_type": "code",
   "execution_count": 7,
   "id": "dc01c391",
   "metadata": {},
   "outputs": [
    {
     "name": "stdout",
     "output_type": "stream",
     "text": [
      "20000 training images\n",
      "312 training steps per epoch\n"
     ]
    }
   ],
   "source": [
    "train_ds, val_ds = data.setup_data(config,show_grid=False)"
   ]
  },
  {
   "cell_type": "code",
   "execution_count": 8,
   "id": "e72a287b",
   "metadata": {},
   "outputs": [],
   "source": [
    "# all this to load hyperparams\n",
    "x, y = next(train_ds)\n",
    "random_key = jax.random.PRNGKey(0)\n",
    "model, params = models.load_model(config,train_ds,random_key)\n",
    "hypermodel = hypermodels.DiagonalGaussian(model,params)\n",
    "hparams = jax.jit(hypermodel.init)(random_key , x)"
   ]
  },
  {
   "cell_type": "code",
   "execution_count": 17,
   "id": "e03a45a6",
   "metadata": {},
   "outputs": [],
   "source": [
    "epoch_weights = \"050\"\n",
    "path = 'outputs/stickmanf/2021-10-12_23-58-53/weights/model_epoch=' + epoch_weights + '.weights'\n",
    "with open(path, 'rb') as f:\n",
    "    hparams = flax.serialization.from_bytes(hparams, f.read())"
   ]
  },
  {
   "cell_type": "code",
   "execution_count": null,
   "id": "4b338585",
   "metadata": {},
   "outputs": [],
   "source": [
    "x,y = next(val_ds)"
   ]
  },
  {
   "cell_type": "code",
   "execution_count": 18,
   "id": "5e1ec74f",
   "metadata": {},
   "outputs": [],
   "source": [
    "\n",
    "(xpred, _), logqw, logpw = hypermodel.apply(hparams, y, reverse=True,key=jax.random.PRNGKey(2))"
   ]
  },
  {
   "cell_type": "code",
   "execution_count": 19,
   "id": "644dfb1e",
   "metadata": {},
   "outputs": [
    {
     "data": {
      "text/plain": [
       "<matplotlib.image.AxesImage at 0x7f15401d2790>"
      ]
     },
     "execution_count": 19,
     "metadata": {},
     "output_type": "execute_result"
    },
    {
     "data": {
      "image/png": "[encoded data removed]",
      "text/plain": [
       "<Figure size 432x288 with 1 Axes>"
      ]
     },
     "metadata": {
      "needs_background": "light"
     },
     "output_type": "display_data"
    }
   ],
   "source": [
    "plt.imshow(jnp.squeeze(xpred[0]))"
   ]
  },
  {
   "cell_type": "code",
   "execution_count": 20,
   "id": "ad37323c",
   "metadata": {},
   "outputs": [
    {
     "data": {
      "text/plain": [
       "<matplotlib.image.AxesImage at 0x7f15586fd610>"
      ]
     },
     "execution_count": 20,
     "metadata": {},
     "output_type": "execute_result"
    },
    {
     "data": {
      "image/png": "[encoded data removed]",
      "text/plain": [
       "<Figure size 432x288 with 1 Axes>"
      ]
     },
     "metadata": {
      "needs_background": "light"
     },
     "output_type": "display_data"
    }
   ],
   "source": [
    "plt.imshow(jnp.squeeze(x[0]))"
   ]
  },
  {
   "cell_type": "markdown",
   "id": "9f699d53",
   "metadata": {},
   "source": [
    "## Sample multiple times from same input"
   ]
  },
  {
   "cell_type": "code",
   "execution_count": 66,
   "id": "1619cf24",
   "metadata": {},
   "outputs": [
    {
     "name": "stdout",
     "output_type": "stream",
     "text": [
      "20000 training images\n",
      "20000 training steps per epoch\n"
     ]
    }
   ],
   "source": [
    "# small batch size\n",
    "config.train.batch_size = 1\n",
    "train_ds, val_ds = data.setup_data(config,show_grid=False)"
   ]
  },
  {
   "cell_type": "code",
   "execution_count": 67,
   "id": "3e7624b7",
   "metadata": {},
   "outputs": [],
   "source": [
    "# keys\n",
    "num_keys = 9\n",
    "root = jax.random.PRNGKey(0)\n",
    "keys = jax.random.split(root, num=num_keys)"
   ]
  },
  {
   "cell_type": "code",
   "execution_count": 68,
   "id": "27652046",
   "metadata": {},
   "outputs": [],
   "source": [
    "def sample(key, y):\n",
    "    (xpred, _), logqw, logpw = hypermodel.apply(hparams, y, reverse=True,key=key)\n",
    "    return xpred\n",
    "get_samples = jax.vmap(sample, in_axes=(0, None))"
   ]
  },
  {
   "cell_type": "code",
   "execution_count": 69,
   "id": "fd3cb812",
   "metadata": {},
   "outputs": [],
   "source": [
    "x,y = next(val_ds)"
   ]
  },
  {
   "cell_type": "code",
   "execution_count": 70,
   "id": "654ef159",
   "metadata": {},
   "outputs": [],
   "source": [
    "result = get_samples(keys, y)"
   ]
  },
  {
   "cell_type": "code",
   "execution_count": 71,
   "id": "11747de8",
   "metadata": {},
   "outputs": [
    {
     "data": {
      "text/plain": [
       "(9, 1, 32, 32, 1)"
      ]
     },
     "execution_count": 71,
     "metadata": {},
     "output_type": "execute_result"
    }
   ],
   "source": [
    "result.shape"
   ]
  },
  {
   "cell_type": "code",
   "execution_count": 72,
   "id": "43a4f3eb",
   "metadata": {},
   "outputs": [
    {
     "data": {
      "text/plain": [
       "<matplotlib.image.AxesImage at 0x7f14cc0fa790>"
      ]
     },
     "execution_count": 72,
     "metadata": {},
     "output_type": "execute_result"
    },
    {
     "data": {
      "image/png": "[encoded data removed]",
      "text/plain": [
       "<Figure size 432x288 with 1 Axes>"
      ]
     },
     "metadata": {
      "needs_background": "light"
     },
     "output_type": "display_data"
    }
   ],
   "source": [
    "plt.imshow(jnp.squeeze(x[0]))"
   ]
  },
  {
   "cell_type": "code",
   "execution_count": 64,
   "id": "50b479cc",
   "metadata": {},
   "outputs": [],
   "source": [
    "from mpl_toolkits.axes_grid1 import ImageGrid"
   ]
  },
  {
   "cell_type": "code",
   "execution_count": 75,
   "id": "4b7ac6f8",
   "metadata": {},
   "outputs": [
    {
     "data": {
      "image/png": "[encoded data removed]",
      "text/plain": [
       "<Figure size 720x720 with 18 Axes>"
      ]
     },
     "metadata": {
      "needs_background": "light"
     },
     "output_type": "display_data"
    }
   ],
   "source": [
    "fig = plt.figure(figsize=(10., 10.))\n",
    "grid = ImageGrid(fig, 111,  # similar to subplot(111)\n",
    "                 nrows_ncols=(3, 3),  # creates 2x2 grid of axes\n",
    "                 axes_pad=0.1,  # pad between axes in inch.\n",
    "                 )\n",
    "images = [jnp.squeeze(result[i][0]) for i in range(9)]\n",
    "for ax, im in zip(grid, images):\n",
    "    # Iterating over the grid returns the Axes.\n",
    "    ax.imshow(im)\n",
    "\n",
    "plt.show()"
   ]
  },
  {
   "cell_type": "markdown",
   "id": "62056ab6",
   "metadata": {},
   "source": [
    "## Compute variance between samples"
   ]
  },
  {
   "cell_type": "code",
   "execution_count": 76,
   "id": "8065c376",
   "metadata": {},
   "outputs": [
    {
     "name": "stdout",
     "output_type": "stream",
     "text": [
      "20000 training images\n",
      "20000 training steps per epoch\n"
     ]
    }
   ],
   "source": [
    "config.train.batch_size = 1\n",
    "train_ds, val_ds = data.setup_data(config,show_grid=False)"
   ]
  },
  {
   "cell_type": "code",
   "execution_count": 95,
   "id": "2e669108",
   "metadata": {},
   "outputs": [],
   "source": [
    "x,y = next(train_ds)"
   ]
  },
  {
   "cell_type": "code",
   "execution_count": 96,
   "id": "f215d8ac",
   "metadata": {},
   "outputs": [],
   "source": [
    "num_keys = 20\n",
    "root = jax.random.PRNGKey(0)\n",
    "keys = jax.random.split(root, num=num_keys)"
   ]
  },
  {
   "cell_type": "code",
   "execution_count": 97,
   "id": "56ac4374",
   "metadata": {},
   "outputs": [],
   "source": [
    "def sample(key, y):\n",
    "    (xpred, _), logqw, logpw = hypermodel.apply(hparams, y, reverse=True,key=key)\n",
    "    return xpred\n",
    "get_samples = jax.vmap(sample, in_axes=(0, None))"
   ]
  },
  {
   "cell_type": "code",
   "execution_count": 98,
   "id": "9d3672be",
   "metadata": {},
   "outputs": [],
   "source": [
    "samples = get_samples(keys, y)"
   ]
  },
  {
   "cell_type": "code",
   "execution_count": 99,
   "id": "d74b0a6c",
   "metadata": {},
   "outputs": [
    {
     "data": {
      "text/plain": [
       "(20, 1, 32, 32, 1)"
      ]
     },
     "execution_count": 99,
     "metadata": {},
     "output_type": "execute_result"
    }
   ],
   "source": [
    "samples.shape"
   ]
  },
  {
   "cell_type": "code",
   "execution_count": 100,
   "id": "e5ddc188",
   "metadata": {},
   "outputs": [],
   "source": [
    "test = jnp.squeeze(samples[0][0])"
   ]
  },
  {
   "cell_type": "code",
   "execution_count": 101,
   "id": "3ee657c3",
   "metadata": {},
   "outputs": [],
   "source": [
    "variance = jnp.var(samples, axis=(0,1))"
   ]
  },
  {
   "cell_type": "code",
   "execution_count": 102,
   "id": "b44889dd",
   "metadata": {},
   "outputs": [
    {
     "data": {
      "text/plain": [
       "(32, 32, 1)"
      ]
     },
     "execution_count": 102,
     "metadata": {},
     "output_type": "execute_result"
    }
   ],
   "source": [
    "variance.shape"
   ]
  },
  {
   "cell_type": "code",
   "execution_count": 103,
   "id": "d6bbc5f1",
   "metadata": {},
   "outputs": [
    {
     "data": {
      "text/plain": [
       "<matplotlib.image.AxesImage at 0x7f147c76adc0>"
      ]
     },
     "execution_count": 103,
     "metadata": {},
     "output_type": "execute_result"
    },
    {
     "data": {
      "image/png": "[encoded data removed]",
      "text/plain": [
       "<Figure size 432x288 with 1 Axes>"
      ]
     },
     "metadata": {
      "needs_background": "light"
     },
     "output_type": "display_data"
    }
   ],
   "source": [
    "plt.imshow(jnp.squeeze(variance))"
   ]
  },
  {
   "cell_type": "code",
   "execution_count": 104,
   "id": "b2f73942",
   "metadata": {},
   "outputs": [
    {
     "data": {
      "text/plain": [
       "<matplotlib.image.AxesImage at 0x7f147c6d36a0>"
      ]
     },
     "execution_count": 104,
     "metadata": {},
     "output_type": "execute_result"
    },
    {
     "data": {
      "image/png": "[encoded data removed]",
      "text/plain": [
       "<Figure size 432x288 with 1 Axes>"
      ]
     },
     "metadata": {
      "needs_background": "light"
     },
     "output_type": "display_data"
    }
   ],
   "source": [
    "plt.imshow(jnp.squeeze(x[0]))"
   ]
  },
  {
   "cell_type": "code",
   "execution_count": null,
   "id": "179923e8",
   "metadata": {},
   "outputs": [],
   "source": []
  }
 ],
 "metadata": {
  "kernelspec": {
   "display_name": "Python 3",
   "language": "python",
   "name": "python3"
  },
  "language_info": {
   "codemirror_mode": {
    "name": "ipython",
    "version": 3
   },
   "file_extension": ".py",
   "mimetype": "text/x-python",
   "name": "python",
   "nbconvert_exporter": "python",
   "pygments_lexer": "ipython3",
   "version": "3.8.8"
  }
 },
 "nbformat": 4,
 "nbformat_minor": 5
}

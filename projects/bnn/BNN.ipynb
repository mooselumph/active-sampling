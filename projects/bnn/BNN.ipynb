{
 "cells": [
  {
   "cell_type": "code",
   "execution_count": 1,
   "id": "e6d989b1",
   "metadata": {},
   "outputs": [],
   "source": [
    "import tensorflow as tf\n",
    "tf.config.experimental.set_visible_devices([], 'GPU')"
   ]
  },
  {
   "cell_type": "code",
   "execution_count": 2,
   "id": "548e9ca5",
   "metadata": {},
   "outputs": [],
   "source": [
    "import jax\n",
    "import flax\n",
    "import jax.numpy as jnp\n",
    "import flax.linen as nn\n",
    "\n",
    "import numpy as np\n",
    "import matplotlib.pyplot as plt\n",
    "\n",
    "from tqdm.auto import tqdm"
   ]
  },
  {
   "cell_type": "code",
   "execution_count": 3,
   "id": "9fe5d1eb",
   "metadata": {},
   "outputs": [],
   "source": [
    "from jax_flows.blocks import FlowStep, Sequential\n",
    "from jax_flows.affine import AffineCoupling\n",
    "from jax_flows.subnets import MlpSubnet\n",
    "from jax_flows.permutations import FixedPermutation\n",
    "\n",
    "from jax_flows.priors import Normal\n",
    "from jax_flows.flow import Flow"
   ]
  },
  {
   "cell_type": "code",
   "execution_count": 4,
   "id": "697c0a51",
   "metadata": {},
   "outputs": [],
   "source": [
    "def p(t):\n",
    "    \n",
    "    a,b,c,d,e,f,g,h = -0.0687857495947557,-0.6648650500627475,0.815347080763398,0.19494178563189268,-0.854424285284626,-0.020504147263712413,0.5816050753257676,0.11819142693558216\n",
    "    \n",
    "    x = np.sin(a*t**3 + b*t**2 + c*t + d)\n",
    "    y = np.sin(e*t**3 + f*t**2 + g*t + h)\n",
    "    \n",
    "    return x,y"
   ]
  },
  {
   "cell_type": "code",
   "execution_count": 44,
   "id": "9983edc7",
   "metadata": {},
   "outputs": [],
   "source": []
  },
  {
   "cell_type": "code",
   "execution_count": 52,
   "id": "f2cbdf8b",
   "metadata": {},
   "outputs": [
    {
     "data": {
      "text/plain": [
       "[<matplotlib.lines.Line2D at 0x7fb2445a7130>]"
      ]
     },
     "execution_count": 52,
     "metadata": {},
     "output_type": "execute_result"
    },
    {
     "data": {
      "image/png": "[encoded data removed]",
      "text/plain": [
       "<Figure size 432x288 with 1 Axes>"
      ]
     },
     "metadata": {
      "needs_background": "light"
     },
     "output_type": "display_data"
    }
   ],
   "source": [
    "def q(x):\n",
    "    \n",
    "    \n",
    "    \n",
    "    return x,y\n",
    "\n",
    "t = np.linspace(-1,1,20)\n",
    "x,y = q(t)\n",
    "\n",
    "plt.plot(x,y)"
   ]
  },
  {
   "cell_type": "code",
   "execution_count": 36,
   "id": "71d855ef",
   "metadata": {},
   "outputs": [],
   "source": [
    "def get_samples(n_samples,noise=None):\n",
    "    \n",
    "    t = np.random.uniform(low=-1.8,high=1.8,size=n_samples).reshape(-1,1)\n",
    "    \n",
    "    x,y = p(t)\n",
    "    \n",
    "    if noise:\n",
    "        x += np.random.normal(size=x.shape)*noise\n",
    "        y += np.random.normal(size=x.shape)*noise\n",
    "    \n",
    "    data = np.concatenate([x.reshape(-1,1),y.reshape(-1,1)],axis=1)\n",
    "    \n",
    "    return data,t\n",
    "\n",
    "\n",
    "def fourier_encode(x, max_freq, num_bands = 4, base = 2):\n",
    "    x = jnp.expand_dims(x,-1)\n",
    "    dtype, orig_x = x.dtype, x\n",
    "\n",
    "    scales = jnp.logspace(0., jnp.log(max_freq / 2) / jnp.log(base), num_bands, base = base, dtype = dtype)\n",
    "    scales = scales[(*((None,) * (len(x.shape) - 1)), Ellipsis)]\n",
    "\n",
    "    x = x * scales * jnp.pi\n",
    "    x = jnp.concatenate([jnp.sin(x), jnp.cos(x)], axis =-1)\n",
    "    x = jnp.concatenate((x, orig_x), axis = -1)\n",
    "    return x\n",
    "\n",
    "def create_data(n_samples=30):\n",
    "    \n",
    "    data,t = get_samples(n_samples=n_samples,noise=0.00)\n",
    "    \n",
    "#     x = jnp.squeeze(fourier_encode(t,max_freq=5,num_bands=1,base=2))\n",
    "#     y = jnp.array(np.concatenate((t,data),axis=1))\n",
    "    \n",
    "    x = jnp.array(np.concatenate((t,np.zeros((n_samples,3))),axis=1))\n",
    "    y = jnp.array(np.concatenate((t,data,np.zeros((n_samples,1))),axis=1))\n",
    "    \n",
    "    return x,y"
   ]
  },
  {
   "cell_type": "code",
   "execution_count": null,
   "id": "55967472",
   "metadata": {},
   "outputs": [],
   "source": [
    "data,t = get_samples(n_samples=30,noise=0.00)\n",
    "\n",
    "t = jnp.linspace(-1,1,30)\n",
    "x = fourier_encode(t,max_freq=5,num_bands=1,base=2)\n",
    "print(x.shape)\n",
    "\n",
    "plt.plot(np.squeeze(x))"
   ]
  },
  {
   "cell_type": "code",
   "execution_count": null,
   "id": "cede7aa4",
   "metadata": {},
   "outputs": [],
   "source": [
    "from functools import partial\n",
    "\n",
    "class vanilla(nn.Module):\n",
    "\n",
    "    mlp_width: int # Width of mlp subnetworks\n",
    "    mlp_depth: int\n",
    "    num_mlp_layers: int\n",
    "    key: jax.random.PRNGKey = jax.random.PRNGKey(0)\n",
    "\n",
    "    def setup(self):\n",
    "        keys = jax.random.split(self.key,self.num_mlp_layers)        \n",
    "        subnet = partial(MlpSubnet,width=self.mlp_width,depth=self.mlp_depth)\n",
    "        self.modules = [FlowStep(subnet,key,permutation=FixedPermutation,norm=None) for key in keys]\n",
    "        \n",
    "    @nn.compact\n",
    "    def __call__(self, x, reverse=False, num_modules=None):\n",
    "        \"\"\"Args:\n",
    "            * x: Input to the model\n",
    "            * reverse: Whether to apply the model or its inverse\n",
    "        \"\"\"\n",
    "        \n",
    "        x, logdets = Sequential(self.modules)(x, reverse=reverse, num_modules=num_modules)\n",
    "        return x, logdets\n"
   ]
  },
  {
   "cell_type": "code",
   "execution_count": null,
   "id": "29acc99e",
   "metadata": {},
   "outputs": [],
   "source": [
    "x,y = create_data(n_samples=20)\n"
   ]
  },
  {
   "cell_type": "code",
   "execution_count": 42,
   "id": "008c77c6",
   "metadata": {},
   "outputs": [],
   "source": [
    "key = jax.random.PRNGKey(0)\n",
    "\n",
    "# bijection = vanilla(mlp_width=512,num_mlp_layers=4)\n",
    "# prior = Normal(shape=(4,),temperature=0.7)\n",
    "# model = Flow(prior=prior,bijection=bijection,key=key)\n",
    "\n",
    "model = vanilla(mlp_width=512,mlp_depth=1,num_mlp_layers=6)\n",
    "params = model.init(key, x)\n",
    "\n",
    "opt = flax.optim.Adam(learning_rate=0.001).create(params)\n",
    "\n",
    "\n",
    "@jax.jit\n",
    "def loss_fn(params):\n",
    "    ypred, logdet = model.apply(params,x)\n",
    "    return jnp.sum((ypred - y)**2)\n",
    "\n",
    "# @jax.jit\n",
    "def step(params):\n",
    "    grad_fn = jax.value_and_grad(loss_fn)\n",
    "    loss,grad = grad_fn(params)\n",
    "    return loss, grad"
   ]
  },
  {
   "cell_type": "code",
   "execution_count": null,
   "id": "5977ba20",
   "metadata": {},
   "outputs": [],
   "source": [
    "num_iters = 10000\n",
    "\n",
    "pbar = tqdm(range(num_iters))\n",
    "\n",
    "for it in pbar:\n",
    "    \n",
    "    loss,grad = step(opt.target)\n",
    "    opt = opt.apply_gradient(grad)\n",
    "    pbar.set_description(f'Loss: {loss: 0.2f}')\n",
    "    \n",
    "    if it % 20 == 0:\n",
    "        show_results(opt.target)\n",
    "    \n",
    "params = opt.target"
   ]
  },
  {
   "cell_type": "code",
   "execution_count": 39,
   "id": "fffcae76",
   "metadata": {},
   "outputs": [],
   "source": [
    "def show_results(params):\n",
    "    \n",
    "    npoints = 1000\n",
    "    z = np.zeros((npoints,4))\n",
    "    z[:,0] = np.linspace(-1.8,1.8,npoints)\n",
    "#     t = jnp.linspace(-1.8,1.8,30)\n",
    "#     z = jnp.squeeze(fourier_encode(t,max_freq=5,num_bands=1,base=2))\n",
    "\n",
    "    fig,ax = plt.subplots(figsize=(8,8))\n",
    "\n",
    "    ax.axis([-1.1,0.75,-1.1,1.1])\n",
    "\n",
    "    samples, _ = model.apply(params,z)\n",
    "    ax.plot(samples[:,1],samples[:,2],'-')\n",
    "\n",
    "    x_,y_ = p(np.linspace(-1.8,1.8,200))\n",
    "    ax.plot(x_,y_,'.-')\n",
    "\n",
    "    ax.plot(y[:,1],y[:,2],'o')\n",
    "    \n",
    "    plt.show()"
   ]
  },
  {
   "cell_type": "code",
   "execution_count": 31,
   "id": "b28a21be",
   "metadata": {},
   "outputs": [],
   "source": [
    "params = opt.target"
   ]
  },
  {
   "cell_type": "code",
   "execution_count": 18,
   "id": "2db9d1ed",
   "metadata": {},
   "outputs": [
    {
     "data": {
      "text/plain": [
       "DeviceArray([[-1.8      ,  0.       ,  0.       ,  0.       ],\n",
       "             [-1.7963964,  0.       ,  0.       ,  0.       ],\n",
       "             [-1.7927928,  0.       ,  0.       ,  0.       ],\n",
       "             ...,\n",
       "             [ 1.7927928,  0.       ,  0.       ,  0.       ],\n",
       "             [ 1.7963964,  0.       ,  0.       ,  0.       ],\n",
       "             [ 1.8      ,  0.       ,  0.       ,  0.       ]],            dtype=float32)"
      ]
     },
     "execution_count": 18,
     "metadata": {},
     "output_type": "execute_result"
    }
   ],
   "source": [
    "samples"
   ]
  },
  {
   "cell_type": "code",
   "execution_count": 45,
   "id": "0be83a84",
   "metadata": {},
   "outputs": [
    {
     "data": {
      "text/plain": [
       "DeviceArray(56.122734, dtype=float32)"
      ]
     },
     "execution_count": 45,
     "metadata": {},
     "output_type": "execute_result"
    }
   ],
   "source": [
    "loss_fn(params)"
   ]
  }
 ],
 "metadata": {
  "kernelspec": {
   "display_name": "Python 3",
   "language": "python",
   "name": "python3"
  },
  "language_info": {
   "codemirror_mode": {
    "name": "ipython",
    "version": 3
   },
   "file_extension": ".py",
   "mimetype": "text/x-python",
   "name": "python",
   "nbconvert_exporter": "python",
   "pygments_lexer": "ipython3",
   "version": "3.8.8"
  }
 },
 "nbformat": 4,
 "nbformat_minor": 5
}

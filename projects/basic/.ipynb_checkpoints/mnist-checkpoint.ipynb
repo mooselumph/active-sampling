{
 "cells": [
  {
   "cell_type": "code",
   "execution_count": 1,
   "id": "54f31fea",
   "metadata": {},
   "outputs": [],
   "source": [
    "from config import ConfigSchema"
   ]
  },
  {
   "cell_type": "code",
   "execution_count": 2,
   "id": "8c611003",
   "metadata": {},
   "outputs": [],
   "source": [
    "config = ConfigSchema(\n",
    "    learning_rate = 0.1,\n",
    "    momentum = 0.9,\n",
    "    batch_size = 128,\n",
    "    num_epochs = 10,\n",
    ")"
   ]
  },
  {
   "cell_type": "code",
   "execution_count": null,
   "id": "31cd11d2",
   "metadata": {},
   "outputs": [],
   "source": []
  }
 ],
 "metadata": {
  "kernelspec": {
   "display_name": "Python 3",
   "language": "python",
   "name": "python3"
  },
  "language_info": {
   "codemirror_mode": {
    "name": "ipython",
    "version": 3
   },
   "file_extension": ".py",
   "mimetype": "text/x-python",
   "name": "python",
   "nbconvert_exporter": "python",
   "pygments_lexer": "ipython3",
   "version": "3.8.8"
  }
 },
 "nbformat": 4,
 "nbformat_minor": 5
}
